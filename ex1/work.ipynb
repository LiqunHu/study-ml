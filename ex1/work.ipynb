{
 "cells": [
  {
   "cell_type": "code",
   "execution_count": 148,
   "id": "80f214c8",
   "metadata": {},
   "outputs": [],
   "source": [
    "import numpy as np\n",
    "import pandas as pd\n",
    "import matplotlib.pyplot as plt\n",
    "import torch\n",
    "from einops import rearrange, einsum, reduce\n",
    "import math, copy"
   ]
  },
  {
   "cell_type": "code",
   "execution_count": 13,
   "id": "64a7f154",
   "metadata": {},
   "outputs": [
    {
     "data": {
      "text/html": [
       "<div>\n",
       "<style scoped>\n",
       "    .dataframe tbody tr th:only-of-type {\n",
       "        vertical-align: middle;\n",
       "    }\n",
       "\n",
       "    .dataframe tbody tr th {\n",
       "        vertical-align: top;\n",
       "    }\n",
       "\n",
       "    .dataframe thead th {\n",
       "        text-align: right;\n",
       "    }\n",
       "</style>\n",
       "<table border=\"1\" class=\"dataframe\">\n",
       "  <thead>\n",
       "    <tr style=\"text-align: right;\">\n",
       "      <th></th>\n",
       "      <th>Population</th>\n",
       "      <th>Profit</th>\n",
       "    </tr>\n",
       "  </thead>\n",
       "  <tbody>\n",
       "    <tr>\n",
       "      <th>0</th>\n",
       "      <td>6.1101</td>\n",
       "      <td>17.5920</td>\n",
       "    </tr>\n",
       "    <tr>\n",
       "      <th>1</th>\n",
       "      <td>5.5277</td>\n",
       "      <td>9.1302</td>\n",
       "    </tr>\n",
       "    <tr>\n",
       "      <th>2</th>\n",
       "      <td>8.5186</td>\n",
       "      <td>13.6620</td>\n",
       "    </tr>\n",
       "    <tr>\n",
       "      <th>3</th>\n",
       "      <td>7.0032</td>\n",
       "      <td>11.8540</td>\n",
       "    </tr>\n",
       "    <tr>\n",
       "      <th>4</th>\n",
       "      <td>5.8598</td>\n",
       "      <td>6.8233</td>\n",
       "    </tr>\n",
       "  </tbody>\n",
       "</table>\n",
       "</div>"
      ],
      "text/plain": [
       "   Population   Profit\n",
       "0      6.1101  17.5920\n",
       "1      5.5277   9.1302\n",
       "2      8.5186  13.6620\n",
       "3      7.0032  11.8540\n",
       "4      5.8598   6.8233"
      ]
     },
     "execution_count": 13,
     "metadata": {},
     "output_type": "execute_result"
    }
   ],
   "source": [
    "path = './ex1data1.txt'\n",
    "data = pd.read_csv(path, header=None, names=['Population', 'Profit'])\n",
    "data.head()"
   ]
  },
  {
   "cell_type": "code",
   "execution_count": 14,
   "id": "e88be586",
   "metadata": {},
   "outputs": [
    {
     "data": {
      "text/html": [
       "<div>\n",
       "<style scoped>\n",
       "    .dataframe tbody tr th:only-of-type {\n",
       "        vertical-align: middle;\n",
       "    }\n",
       "\n",
       "    .dataframe tbody tr th {\n",
       "        vertical-align: top;\n",
       "    }\n",
       "\n",
       "    .dataframe thead th {\n",
       "        text-align: right;\n",
       "    }\n",
       "</style>\n",
       "<table border=\"1\" class=\"dataframe\">\n",
       "  <thead>\n",
       "    <tr style=\"text-align: right;\">\n",
       "      <th></th>\n",
       "      <th>Population</th>\n",
       "      <th>Profit</th>\n",
       "    </tr>\n",
       "  </thead>\n",
       "  <tbody>\n",
       "    <tr>\n",
       "      <th>count</th>\n",
       "      <td>97.000000</td>\n",
       "      <td>97.000000</td>\n",
       "    </tr>\n",
       "    <tr>\n",
       "      <th>mean</th>\n",
       "      <td>8.159800</td>\n",
       "      <td>5.839135</td>\n",
       "    </tr>\n",
       "    <tr>\n",
       "      <th>std</th>\n",
       "      <td>3.869884</td>\n",
       "      <td>5.510262</td>\n",
       "    </tr>\n",
       "    <tr>\n",
       "      <th>min</th>\n",
       "      <td>5.026900</td>\n",
       "      <td>-2.680700</td>\n",
       "    </tr>\n",
       "    <tr>\n",
       "      <th>25%</th>\n",
       "      <td>5.707700</td>\n",
       "      <td>1.986900</td>\n",
       "    </tr>\n",
       "    <tr>\n",
       "      <th>50%</th>\n",
       "      <td>6.589400</td>\n",
       "      <td>4.562300</td>\n",
       "    </tr>\n",
       "    <tr>\n",
       "      <th>75%</th>\n",
       "      <td>8.578100</td>\n",
       "      <td>7.046700</td>\n",
       "    </tr>\n",
       "    <tr>\n",
       "      <th>max</th>\n",
       "      <td>22.203000</td>\n",
       "      <td>24.147000</td>\n",
       "    </tr>\n",
       "  </tbody>\n",
       "</table>\n",
       "</div>"
      ],
      "text/plain": [
       "       Population     Profit\n",
       "count   97.000000  97.000000\n",
       "mean     8.159800   5.839135\n",
       "std      3.869884   5.510262\n",
       "min      5.026900  -2.680700\n",
       "25%      5.707700   1.986900\n",
       "50%      6.589400   4.562300\n",
       "75%      8.578100   7.046700\n",
       "max     22.203000  24.147000"
      ]
     },
     "execution_count": 14,
     "metadata": {},
     "output_type": "execute_result"
    }
   ],
   "source": [
    "data.describe()"
   ]
  },
  {
   "cell_type": "code",
   "execution_count": 5,
   "id": "3d0e5fd4",
   "metadata": {},
   "outputs": [
    {
     "data": {
      "image/png": "[encoded data removed]",
      "text/plain": [
       "<Figure size 640x480 with 1 Axes>"
      ]
     },
     "metadata": {},
     "output_type": "display_data"
    }
   ],
   "source": [
    "fig, ax = plt.subplots()\n",
    "ax.plot(data['Population'],data['Profit'], 'rx')\n",
    "ax.set_xlabel('Population')\n",
    "ax.set_ylabel('Profit')\n",
    "plt.show()"
   ]
  },
  {
   "cell_type": "markdown",
   "id": "fa9bb576",
   "metadata": {},
   "source": [
    "## Cost\n",
    "$$J(w,b) = \\frac{1}{2m} \\sum\\limits_{i = 0}^{m-1} (f_{w,b}(x^{(i)}) - y^{(i)})^2 \\tag{1}$$\n",
    "\n",
    "where \n",
    "  $$f_{w,b}(x^{(i)}) = wx^{(i)} + b \\tag{2}$$"
   ]
  },
  {
   "cell_type": "code",
   "execution_count": 15,
   "id": "2f4ed755",
   "metadata": {},
   "outputs": [],
   "source": [
    "def get_device() -> torch.device:\n",
    "    \"\"\"Try to use the GPU if possible, otherwise, use CPU.\"\"\"\n",
    "    if torch.mps.is_available():\n",
    "        return torch.device(f\"mps\")\n",
    "    else:\n",
    "        return torch.device(\"cpu\")"
   ]
  },
  {
   "cell_type": "code",
   "execution_count": null,
   "id": "b71d0087",
   "metadata": {},
   "outputs": [],
   "source": [
    "def compute_cost(x, y, w, b):\n",
    "    return reduce((x @ w + b - y).pow(2), \"... -> \", \"sum\") / (\n",
    "        2 * x.size()[0]\n",
    "    )"
   ]
  },
  {
   "cell_type": "code",
   "execution_count": 104,
   "id": "fdfa21d2",
   "metadata": {},
   "outputs": [],
   "source": [
    "def compute_cost_base(x,y, w,b):\n",
    "    m = x.size()[0]\n",
    "    cost_sum = 0 \n",
    "\n",
    "    for i in range(m):\n",
    "        f_wb = x[i][0] * w[0] + b[0] - y[i]\n",
    "        cost = f_wb ** 2\n",
    "        cost_sum += cost\n",
    "\n",
    "    total_cost = cost_sum / (2 * m)\n",
    "    return total_cost\n",
    "    "
   ]
  },
  {
   "cell_type": "code",
   "execution_count": null,
   "id": "119a7bd2",
   "metadata": {},
   "outputs": [],
   "source": [
    "x = torch.tensor(data[['Population']].to_numpy(), dtype=torch.float32)\n",
    "y = torch.tensor(data['Profit'].to_numpy(), dtype=torch.float32)\n",
    "w = torch.tensor([0.5], dtype=torch.float32)\n",
    "b = torch.tensor([0.3], dtype=torch.float32)"
   ]
  },
  {
   "cell_type": "code",
   "execution_count": 106,
   "id": "ae7f4948",
   "metadata": {},
   "outputs": [
    {
     "name": "stdout",
     "output_type": "stream",
     "text": [
      "tensor(9.1010)\n",
      "--------------\n",
      "tensor(9.1010)\n"
     ]
    }
   ],
   "source": [
    "a = compute_cost_base(x,y,w,b)\n",
    "print(a)\n",
    "print(\"--------------\")\n",
    "a = compute_cost(x,y,w,b)\n",
    "print(a)"
   ]
  },
  {
   "cell_type": "markdown",
   "id": "8d8c2282",
   "metadata": {},
   "source": [
    "## Gradient descent\n",
    "$$\\begin{align*} \\text{repeat}&\\text{ until convergence:} \\; \\lbrace \\newline\n",
    "\\;  w &= w -  \\alpha \\frac{\\partial J(w,b)}{\\partial w} \\tag{3}  \\; \\newline \n",
    " b &= b -  \\alpha \\frac{\\partial J(w,b)}{\\partial b}  \\newline \\rbrace\n",
    "\\end{align*}$$\n",
    "where, parameters $w$, $b$ are updated simultaneously.  \n",
    "The gradient is defined as:\n",
    "$$\n",
    "\\begin{align}\n",
    "\\frac{\\partial J(w,b)}{\\partial w}  &= \\frac{1}{m} \\sum\\limits_{i = 0}^{m-1} (f_{w,b}(x^{(i)}) - y^{(i)})x^{(i)} \\tag{4}\\\\\n",
    "  \\frac{\\partial J(w,b)}{\\partial b}  &= \\frac{1}{m} \\sum\\limits_{i = 0}^{m-1} (f_{w,b}(x^{(i)}) - y^{(i)}) \\tag{5}\\\\\n",
    "\\end{align}\n",
    "$$"
   ]
  },
  {
   "cell_type": "code",
   "execution_count": 110,
   "id": "4329427b",
   "metadata": {},
   "outputs": [],
   "source": [
    "def compute_gradient_base(x, y, w, b):\n",
    "    m = x.size()[0]\n",
    "    dj_dw = 0\n",
    "    dj_db = 0\n",
    "\n",
    "    for i in range(m):\n",
    "        f_wb = x[i][0] * w[0] + b[0] - y[i]\n",
    "        dj_dw += f_wb * x[i][0]\n",
    "        dj_db += f_wb\n",
    "\n",
    "    dj_dw = dj_dw / m\n",
    "    dj_db = dj_db / m \n",
    "    \n",
    "    return dj_dw, dj_db \n"
   ]
  },
  {
   "cell_type": "code",
   "execution_count": 144,
   "id": "85e0ac8e",
   "metadata": {},
   "outputs": [],
   "source": [
    "def compute_gradient(x, y, w, b):    \n",
    "    dj_dw = reduce((x @ w + b - y) @ x, \"... -> \", \"sum\") / x.size()[0]\n",
    "    dj_db = reduce(x @ w + b - y, \"... -> \", \"sum\") / x.size()[0]\n",
    "\n",
    "    return dj_dw, dj_db"
   ]
  },
  {
   "cell_type": "code",
   "execution_count": 108,
   "id": "1184020f",
   "metadata": {},
   "outputs": [
    {
     "name": "stdout",
     "output_type": "stream",
     "text": [
      "tensor([2, 2, 3])\n"
     ]
    }
   ],
   "source": [
    "a = torch.tensor([1,2,3])\n",
    "b = torch.tensor([2,1,1])\n",
    "c = a * b\n",
    "print(c)"
   ]
  },
  {
   "cell_type": "code",
   "execution_count": 146,
   "id": "8934373d",
   "metadata": {},
   "outputs": [
    {
     "name": "stdout",
     "output_type": "stream",
     "text": [
      "(tensor(-22.1789), tensor(-1.4592))\n",
      "--------------\n",
      "(tensor(-22.1789), tensor(-1.4592))\n"
     ]
    }
   ],
   "source": [
    "a = compute_gradient_base(x,y,w,b)\n",
    "print(a)\n",
    "print(\"--------------\")\n",
    "a = compute_gradient(x,y,w,b)\n",
    "print(a)"
   ]
  },
  {
   "cell_type": "code",
   "execution_count": 155,
   "id": "3cf0b633",
   "metadata": {},
   "outputs": [],
   "source": [
    "def gradient_descent(x, y, w_in, b_in, alpha, num_iters, cost_function, gradient_function):\n",
    "    w = copy.deepcopy(w_in)\n",
    "    b = copy.deepcopy(b_in)\n",
    "    J_history = []\n",
    "    p_history = []\n",
    "\n",
    "    for i in range(num_iters):\n",
    "        dj_dw, dj_db = gradient_function(x, y, w , b)\n",
    "        b = b - alpha * dj_db                            \n",
    "        w = w - alpha * dj_dw\n",
    "\n",
    "        # save cost J and each iteration\n",
    "        if i<100000:\n",
    "            J_history.append( cost_function(x, y, w , b))\n",
    "            p_history.append([w,b])\n",
    "\n",
    "        if i% math.ceil(num_iters/10) == 0:\n",
    "            print(f\"Iteration {i:4}: Cost {J_history[-1].item():0.2e} \",\n",
    "                  f\"dj_dw: {dj_dw.item(): 0.3e}, dj_db: {dj_db.item(): 0.3e}  \",\n",
    "                  f\"w: {w.item(): 0.3e}, b:{b.item(): 0.5e}\")\n",
    "            \n",
    "    return w, b, J_history, p_history\n",
    "    "
   ]
  },
  {
   "cell_type": "code",
   "execution_count": 156,
   "id": "0bb5a3cf",
   "metadata": {},
   "outputs": [
    {
     "name": "stdout",
     "output_type": "stream",
     "text": [
      "Iteration    0: Cost 6.74e+00  dj_dw: -6.533e+01, dj_db: -5.839e+00   w:  6.533e-01, b: 5.83913e-02\n",
      "Iteration  100: Cost 5.48e+00  dj_dw: -6.010e-02, dj_db:  5.983e-01   w:  8.602e-01, b:-5.82540e-01\n",
      "Iteration  200: Cost 5.17e+00  dj_dw: -5.019e-02, dj_db:  4.995e-01   w:  9.151e-01, b:-1.12950e+00\n",
      "Iteration  300: Cost 4.96e+00  dj_dw: -4.190e-02, dj_db:  4.171e-01   w:  9.610e-01, b:-1.58616e+00\n",
      "Iteration  400: Cost 4.82e+00  dj_dw: -3.498e-02, dj_db:  3.482e-01   w:  9.993e-01, b:-1.96744e+00\n",
      "Iteration  500: Cost 4.71e+00  dj_dw: -2.921e-02, dj_db:  2.907e-01   w:  1.031e+00, b:-2.28577e+00\n",
      "Iteration  600: Cost 4.64e+00  dj_dw: -2.439e-02, dj_db:  2.427e-01   w:  1.058e+00, b:-2.55156e+00\n",
      "Iteration  700: Cost 4.59e+00  dj_dw: -2.036e-02, dj_db:  2.027e-01   w:  1.080e+00, b:-2.77347e+00\n",
      "Iteration  800: Cost 4.56e+00  dj_dw: -1.700e-02, dj_db:  1.692e-01   w:  1.099e+00, b:-2.95874e+00\n",
      "Iteration  900: Cost 4.53e+00  dj_dw: -1.419e-02, dj_db:  1.413e-01   w:  1.114e+00, b:-3.11343e+00\n"
     ]
    }
   ],
   "source": [
    "alpha = 0.01\n",
    "iters = 1000\n",
    "w_init = torch.tensor([0], dtype=torch.float32)\n",
    "b_init = torch.tensor([0], dtype=torch.float32)\n",
    "\n",
    "w, b, J_history, p_history = gradient_descent(x,y,w_init,b_init, alpha, iters, compute_cost, compute_gradient)"
   ]
  },
  {
   "cell_type": "code",
   "execution_count": null,
   "id": "5710a3a4",
   "metadata": {},
   "outputs": [
    {
     "data": {
      "image/png": "[encoded data removed]",
      "text/plain": [
       "<Figure size 640x480 with 1 Axes>"
      ]
     },
     "metadata": {},
     "output_type": "display_data"
    }
   ],
   "source": [
    "x = \n",
    "\n",
    "fig, ax = plt.subplots()\n",
    "ax.plot()\n",
    "ax.plot(data['Population'],data['Profit'], 'rx', label='Traning Data')\n",
    "ax.set_xlabel('Population')\n",
    "ax.set_ylabel('Profit')\n",
    "plt.show()"
   ]
  }
 ],
 "metadata": {
  "kernelspec": {
   "display_name": "testpy",
   "language": "python",
   "name": "python3"
  },
  "language_info": {
   "codemirror_mode": {
    "name": "ipython",
    "version": 3
   },
   "file_extension": ".py",
   "mimetype": "text/x-python",
   "name": "python",
   "nbconvert_exporter": "python",
   "pygments_lexer": "ipython3",
   "version": "3.12.11"
  }
 },
 "nbformat": 4,
 "nbformat_minor": 5
}
